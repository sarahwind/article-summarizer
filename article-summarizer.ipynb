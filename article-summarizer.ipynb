{
 "cells": [
  {
   "cell_type": "markdown",
   "metadata": {
    "tags": []
   },
   "source": [
    "# Web Mining and Applied NLP (44-620)\n",
    "\n",
    "## Final Project: Article Summarizer\n",
    "\n",
    "### Student Name: Sarah Windeknecht\n",
    "https://github.com/sarahwind/article-summarizer\n",
    "\n",
    "Perform the tasks described in the Markdown cells below.  When you have completed the assignment make sure your code cells have all been run (and have output beneath them) and ensure you have committed and pushed ALL of your changes to your assignment repository.\n",
    "\n",
    "You should bring in code from previous assignments to help you answer the questions below.\n",
    "\n",
    "Every question that requires you to write code will have a code cell underneath it; you may either write your entire solution in that cell or write it in a python file (`.py`), then import and run the appropriate code to answer the question."
   ]
  },
  {
   "cell_type": "markdown",
   "metadata": {},
   "source": [
    "#### QUESTION 1"
   ]
  },
  {
   "cell_type": "markdown",
   "metadata": {},
   "source": [
    "1. Find on the internet an article or blog post about a topic that interests you and you are able to get the text for using the technologies we have applied in the course.  Get the html for the article and store it in a file (which you must submit with your project)"
   ]
  },
  {
   "cell_type": "code",
   "execution_count": 6,
   "metadata": {},
   "outputs": [],
   "source": [
    "import requests\n",
    "\n",
    "article_html = requests.get('https://www.lazygirlrunning.com/2022/01/new-year-plans-just-keep-moving.html')\n",
    "\n",
    "import pickle\n",
    "\n",
    "with open('python-match.pkl', 'wb') as f:\n",
    "    pickle.dump(article_html.text, f)\n",
    "    \n",
    "with open('python-match.pkl', 'rb') as f:\n",
    "    article_html = pickle.load(f)"
   ]
  },
  {
   "cell_type": "markdown",
   "metadata": {},
   "source": [
    "#### QUESTION 2"
   ]
  },
  {
   "cell_type": "markdown",
   "metadata": {},
   "source": [
    "2. Read in your article's html source from the file you created in question 1 and do sentiment analysis on the article/post's text (use `.get_text()`).  Print the polarity score with an appropriate label.  Additionally print the number of sentences in the original article (with an appropriate label)"
   ]
  },
  {
   "cell_type": "code",
   "execution_count": 7,
   "metadata": {},
   "outputs": [
    {
     "name": "stdout",
     "output_type": "stream",
     "text": [
      "Polarity: 0.14058025308025307\n",
      "Number of sentences:  34\n"
     ]
    }
   ],
   "source": [
    "from bs4 import BeautifulSoup\n",
    "parser = 'html.parser'\n",
    "\n",
    "soup = BeautifulSoup(article_html, parser)\n",
    "\n",
    "article_element = soup.find('article')\n",
    "\n",
    "#print(article_element.get_text())\n",
    "\n",
    "import spacy\n",
    "from spacytextblob.spacytextblob import SpacyTextBlob\n",
    "\n",
    "nlp = spacy.load('en_core_web_sm')\n",
    "nlp.add_pipe('spacytextblob')\n",
    "doc = nlp(article_element.get_text())\n",
    "print(f'Polarity: {doc._.polarity}')\n",
    "\n",
    "num_sents = len(list(doc.sents))\n",
    "print('Number of sentences: ', num_sents)"
   ]
  },
  {
   "cell_type": "markdown",
   "metadata": {},
   "source": [
    "#### QUESTION 3"
   ]
  },
  {
   "cell_type": "markdown",
   "metadata": {},
   "source": [
    "3. Load the article text into a trained `spaCy` pipeline, and determine the 5 most frequent tokens (converted to lower case).  Print the common tokens with an appropriate label.  Additionally, print the tokens their frequencies (with appropriate labels)"
   ]
  },
  {
   "cell_type": "code",
   "execution_count": 8,
   "metadata": {
    "tags": []
   },
   "outputs": [
    {
     "name": "stdout",
     "output_type": "stream",
     "text": [
      "Most common tokens:  ['year', 'marathon', 'moving', 'run', 'bike']\n",
      "Token frequencies:  [('year', 8), ('marathon', 8), ('moving', 6), ('run', 5), ('bike', 5)]\n"
     ]
    }
   ],
   "source": [
    "nlp = spacy.load('en_core_web_sm')\n",
    "nlp.add_pipe('spacytextblob')\n",
    "doc = nlp(article_element.get_text())\n",
    "\n",
    "from collections import Counter\n",
    "\n",
    "def cool_tokens(token):\n",
    "    return not (token.is_space or token.is_punct or token.is_stop)\n",
    "\n",
    "all_tokens = [token.text.lower() for token in doc if cool_tokens(token)]\n",
    "word_freq = Counter(all_tokens)\n",
    "five_tokens = word_freq.most_common(5)\n",
    "\n",
    "common_tokens = []\n",
    "common_freq = []\n",
    "    \n",
    "for (token, freq) in five_tokens:\n",
    "    common_tokens.append(token)\n",
    "    common_freq.append(freq)\n",
    "\n",
    "print('Most common tokens: ', common_tokens)\n",
    "print('Token frequencies: ', five_tokens)\n"
   ]
  },
  {
   "cell_type": "markdown",
   "metadata": {},
   "source": [
    "#### QUESTION 4"
   ]
  },
  {
   "cell_type": "markdown",
   "metadata": {},
   "source": [
    "4. Load the article text into a trained `spaCy` pipeline, and determine the 5 most frequent lemmas (converted to lower case).  Print the common lemmas with an appropriate label.  Additionally, print the lemmas with their frequencies (with appropriate labels)."
   ]
  },
  {
   "cell_type": "code",
   "execution_count": 9,
   "metadata": {},
   "outputs": [
    {
     "name": "stdout",
     "output_type": "stream",
     "text": [
      "Most common lemmas:  ['year', 'marathon', 'move', 'run', 'bike']\n",
      "Lemma frequencies:  [('year', 8), ('marathon', 8), ('move', 6), ('run', 5), ('bike', 5)]\n"
     ]
    }
   ],
   "source": [
    "nlp = spacy.load('en_core_web_sm')\n",
    "nlp.add_pipe('spacytextblob')\n",
    "doc = nlp(article_element.get_text())\n",
    "\n",
    "from collections import Counter\n",
    "\n",
    "def cool_lemmas(token):\n",
    "    return not (token.is_space or token.is_punct or token.is_stop)\n",
    "\n",
    "all_lemmas = [token.lemma_.lower() for token in doc if cool_lemmas(token)]\n",
    "lemma_freq = Counter(all_lemmas)\n",
    "five_lemmas = lemma_freq.most_common(5)\n",
    "\n",
    "common_lemmas = []\n",
    "common_lemma_freq = []\n",
    "    \n",
    "for (lemma, freq2) in five_lemmas:\n",
    "    common_lemmas.append(lemma)\n",
    "    common_lemma_freq.append(freq2)\n",
    "\n",
    "print('Most common lemmas: ', common_lemmas)\n",
    "print('Lemma frequencies: ', five_lemmas)"
   ]
  },
  {
   "cell_type": "markdown",
   "metadata": {},
   "source": [
    "#### QUESTION 5"
   ]
  },
  {
   "cell_type": "markdown",
   "metadata": {},
   "source": [
    "5. Make a list containing the scores (using tokens) of every sentence in the article, and plot a histogram with appropriate titles and axis labels of the scores. From your histogram, what seems to be the most common range of scores (put the answer in a comment after your code)?"
   ]
  },
  {
   "cell_type": "code",
   "execution_count": 10,
   "metadata": {},
   "outputs": [
    {
     "name": "stdout",
     "output_type": "stream",
     "text": [
      "Token scores:  [0.1875, 0.15384615384615385, 0.125, 0.0, 0.04, 0.07142857142857142, 0.0, 0.0, 0.0, 0.0, 0.044444444444444446, 0.041666666666666664, 0.0, 0.0, 0.06451612903225806, 0.0, 0.0, 0.06666666666666667, 0.0, 0.0, 0.06666666666666667, 0.0, 0.0, 0.0, 0.0, 0.0, 0.05555555555555555, 0.043478260869565216, 0.02631578947368421, 0.13333333333333333, 0.0, 0.0, 0.0, 0.05063291139240506]\n"
     ]
    },
    {
     "data": {
      "image/png": "[encoded data removed]",
      "text/plain": [
       "<Figure size 640x480 with 1 Axes>"
      ]
     },
     "metadata": {},
     "output_type": "display_data"
    }
   ],
   "source": [
    "def wordCount(sentence):\n",
    "    count = 0\n",
    "    for token in sentence:\n",
    "        if not(token.is_space or token.is_punct):\n",
    "            count += 1\n",
    "    return count\n",
    "\n",
    "def score_sentence_by_token(sentence, interesting_tokens):\n",
    "    count2 = 0\n",
    "    for token in sentence:\n",
    "        if token.text.lower() in interesting_tokens:\n",
    "            count2 += 1\n",
    "    total = wordCount(sentence)\n",
    "    #print('Output: score_sentence_by_token: ',count2,'/',total)\n",
    "    return count2/total\n",
    "\n",
    "scores = []\n",
    "\n",
    "for sentence in list(doc.sents):\n",
    "    scores.append(score_sentence_by_token(sentence, common_tokens))\n",
    "    \n",
    "print('Token scores: ', scores)\n",
    "\n",
    "#c = Counter(scores)\n",
    "\n",
    "#frequency = list(c.values())\n",
    "\n",
    "#print('Frequencies: ', frequency)\n",
    "\n",
    "import matplotlib as mpl\n",
    "import matplotlib.pyplot as plt\n",
    "import numpy as np\n",
    "\n",
    "plt.hist(scores)\n",
    "plt.xlabel(\"Score\")\n",
    "plt.ylabel(\"Frequency\")\n",
    "plt.title(\"Frequency of Sentence Scores Using Tokens\")\n",
    "plt.show()\n",
    "\n",
    "#most common range of scores is 0.000-0.020"
   ]
  },
  {
   "cell_type": "markdown",
   "metadata": {},
   "source": [
    "#### QUESTION 6"
   ]
  },
  {
   "cell_type": "markdown",
   "metadata": {},
   "source": [
    "6. Make a list containing the scores (using lemmas) of every sentence in the article, and plot a histogram with appropriate titles and axis labels of the scores.  From your histogram, what seems to be the most common range of scores (put the answer in a comment after your code)?"
   ]
  },
  {
   "cell_type": "code",
   "execution_count": 67,
   "metadata": {},
   "outputs": [
    {
     "name": "stdout",
     "output_type": "stream",
     "text": [
      "Lemma scores:  [0.125, 0.07692307692307693, 0.125, 0.0, 0.04, 0.07142857142857142, 0.0, 0.0, 0.0, 0.0, 0.044444444444444446, 0.0, 0.0, 0.0, 0.06451612903225806, 0.0, 0.0, 0.06666666666666667, 0.0, 0.0, 0.0, 0.0, 0.0, 0.0, 0.0, 0.0, 0.05555555555555555, 0.043478260869565216, 0.02631578947368421, 0.1, 0.0, 0.0, 0.0, 0.05063291139240506]\n"
     ]
    },
    {
     "data": {
      "image/png": "[encoded data removed]",
      "text/plain": [
       "<Figure size 640x480 with 1 Axes>"
      ]
     },
     "metadata": {},
     "output_type": "display_data"
    }
   ],
   "source": [
    "def score_sentence_by_lemma(sentence, interesting_lemmas):\n",
    "    count3 = 0\n",
    "    for token in sentence:\n",
    "        if token.lemma_.lower() in interesting_lemmas:\n",
    "            count3 += 1\n",
    "    total = wordCount(sentence)\n",
    "    #print('Output: score_sentence_by_lemma: ',count3,'/',total)\n",
    "    return count3/total\n",
    "\n",
    "scores_lemma = []\n",
    "\n",
    "for sentence in list(doc.sents):\n",
    "    scores_lemma.append(score_sentence_by_token(sentence, common_lemmas))\n",
    "    \n",
    "print('Lemma scores: ', scores_lemma)\n",
    "\n",
    "#c2 = Counter(scores_lemma)\n",
    "\n",
    "#frequency_lemma = list(c2.values())\n",
    "\n",
    "#print('Frequencies: ', frequency_lemma)\n",
    "\n",
    "plt.hist(scores_lemma) \n",
    "plt.xlabel(\"Score\")\n",
    "plt.ylabel(\"Frequency\")\n",
    "plt.title(\"Frequency of Sentence Scores Using Lemmas\")\n",
    "plt.show()\n",
    "\n",
    "#most common range of scores is 0.00-0.01"
   ]
  },
  {
   "cell_type": "markdown",
   "metadata": {},
   "source": [
    "#### QUESTION 7"
   ]
  },
  {
   "cell_type": "markdown",
   "metadata": {},
   "source": [
    "7. Using the histograms from questions 5 and 6, decide a \"cutoff\" score for tokens and lemmas such that fewer than half the sentences would have a score greater than the cutoff score.  Record the scores in this Markdown cell\n",
    "\n",
    "* Cutoff Score (tokens): 0.06\n",
    "* Cutoff Score (lemmas): 0.06\n",
    "\n",
    "Feel free to change these scores as you generate your summaries.  Ideally, we're shooting for at least 6 sentences for our summary, but don't want more than 10 (these numbers are rough estimates; they depend on the length of your article)."
   ]
  },
  {
   "cell_type": "markdown",
   "metadata": {},
   "source": [
    "#### QUESTION 8"
   ]
  },
  {
   "cell_type": "markdown",
   "metadata": {},
   "source": [
    "8. Create a summary of the article by going through every sentence in the article and adding it to an (initially) empty list if its score (based on tokens) is greater than the cutoff score you identified in question 8.  If your loop variable is named `sent`, you may find it easier to add `sent.text.strip()` to your list of sentences.  Print the summary (I would cleanly generate the summary text by `join`ing the strings in your list together with a space (`' '.join(sentence_list)`)."
   ]
  },
  {
   "cell_type": "code",
   "execution_count": 78,
   "metadata": {},
   "outputs": [
    {
     "name": "stdout",
     "output_type": "stream",
     "text": [
      "New Year Plans: Just Keep Moving\n",
      "\n",
      "New Year Plans: Just Keep Moving\n",
      "My New Year’s goal isn’t to hit any massive mileage targets or to run every day in January. This year I’m keeping it simple with a mantra ‘Just keep moving’. That movement might be a run (after all, I’m hoping to run a marathon this year), but equally it might be 20 mins of yoga or a walk around the reservoir. There’s a lot of pressure to start the year with a big challenge. It’s great to have goals, and maybe yours IS to run a marathon or a 10k or some sort of race that’s going to be a challenge for you. If you’re dedicating your year to achieving something, it should be something you enjoy. The key to keeping moving is to find what you do and don’t like. I might not be signing up for a 100-mile bike ride again, but the bike will definitely feature more in the ways I keep my body moving this year.\n"
     ]
    }
   ],
   "source": [
    "summary1 = []\n",
    "\n",
    "for sentence in list(doc.sents):\n",
    "    if score_sentence_by_token(sentence, common_tokens) > 0.06:\n",
    "        summary1.append(sentence)\n",
    "    \n",
    "token_summary = [i.text.strip() for i in summary1]\n",
    "tokens_summary = ' '.join(token_summary)\n",
    "\n",
    "print(tokens_summary)"
   ]
  },
  {
   "cell_type": "markdown",
   "metadata": {},
   "source": [
    "#### QUESTION 9"
   ]
  },
  {
   "cell_type": "markdown",
   "metadata": {},
   "source": [
    "9. Print the polarity score of your summary you generated with the token scores (with an appropriate label). Additionally, print the number of sentences in the summarized article."
   ]
  },
  {
   "cell_type": "code",
   "execution_count": 92,
   "metadata": {},
   "outputs": [
    {
     "name": "stdout",
     "output_type": "stream",
     "text": [
      "Polarity: 0.17575757575757575\n",
      "Number of sentences:  8\n"
     ]
    }
   ],
   "source": [
    "doc1 = nlp(tokens_summary)\n",
    "\n",
    "print(f'Polarity: {doc1._.polarity}')\n",
    "\n",
    "num_sents = len(token_summary)\n",
    "print('Number of sentences: ', num_sents)"
   ]
  },
  {
   "cell_type": "markdown",
   "metadata": {},
   "source": [
    "#### QUESTION 10"
   ]
  },
  {
   "cell_type": "markdown",
   "metadata": {},
   "source": [
    "10. Create a summary of the article by going through every sentence in the article and adding it to an (initially) empty list if its score (based on lemmas) is greater than the cutoff score you identified in question 8.  If your loop variable is named `sent`, you may find it easier to add `sent.text.strip()` to your list of sentences.  Print the summary (I would cleanly generate the summary text by `join`ing the strings in your list together with a space (`' '.join(sentence_list)`)."
   ]
  },
  {
   "cell_type": "code",
   "execution_count": 93,
   "metadata": {},
   "outputs": [
    {
     "name": "stdout",
     "output_type": "stream",
     "text": [
      "New Year Plans: Just Keep Moving\n",
      "\n",
      "New Year Plans: Just Keep Moving\n",
      "My New Year’s goal isn’t to hit any massive mileage targets or to run every day in January. This year I’m keeping it simple with a mantra ‘Just keep moving’. That movement might be a run (after all, I’m hoping to run a marathon this year), but equally it might be 20 mins of yoga or a walk around the reservoir. There’s a lot of pressure to start the year with a big challenge. It’s great to have goals, and maybe yours IS to run a marathon or a 10k or some sort of race that’s going to be a challenge for you. If you’re dedicating your year to achieving something, it should be something you enjoy. The key to keeping moving is to find what you do and don’t like. I might not be signing up for a 100-mile bike ride again, but the bike will definitely feature more in the ways I keep my body moving this year.\n"
     ]
    }
   ],
   "source": [
    "summary2 = []\n",
    "\n",
    "for sentence in list(doc.sents):\n",
    "    if score_sentence_by_lemma(sentence, common_lemmas) > 0.06:\n",
    "        summary2.append(sentence)\n",
    "    \n",
    "lemma_summary = [i.text.strip() for i in summary2]\n",
    "lemmas_summary = ' '.join(lemma_summary)\n",
    "\n",
    "print(lemmas_summary)"
   ]
  },
  {
   "cell_type": "markdown",
   "metadata": {},
   "source": [
    "#### QUESTION 11"
   ]
  },
  {
   "cell_type": "markdown",
   "metadata": {},
   "source": [
    "11. Print the polarity score of your summary you generated with the lemma scores (with an appropriate label). Additionally, print the number of sentences in the summarized article."
   ]
  },
  {
   "cell_type": "code",
   "execution_count": 94,
   "metadata": {},
   "outputs": [
    {
     "name": "stdout",
     "output_type": "stream",
     "text": [
      "Polarity: 0.17575757575757575\n",
      "Number of sentences:  8\n"
     ]
    }
   ],
   "source": [
    "doc2 = nlp(lemmas_summary)\n",
    "\n",
    "print(f'Polarity: {doc2._.polarity}')\n",
    "\n",
    "numb_sents = len(lemma_summary)\n",
    "print('Number of sentences: ', numb_sents)"
   ]
  },
  {
   "cell_type": "markdown",
   "metadata": {},
   "source": [
    "#### QUESTION 12"
   ]
  },
  {
   "cell_type": "markdown",
   "metadata": {},
   "source": [
    "12.  Compare your polarity scores of your summaries to the polarity scores of the initial article.  Is there a difference?  Why do you think that may or may not be?.  Answer in this Markdown cell.  \n",
    "\n",
    "Initial article polarity score = 0.14\n",
    "Summary scores = 0.18\n",
    "\n",
    "The polarity scores of the summaries are greater than the initial summary score. In using a cutoff score, we eliminate the sentences with less positive polarity scores, leaving those with higher scores."
   ]
  },
  {
   "cell_type": "markdown",
   "metadata": {},
   "source": [
    "#### QUESTION 13"
   ]
  },
  {
   "cell_type": "markdown",
   "metadata": {},
   "source": [
    "13. Based on your reading of the original article, which summary do you think is better (if there's a difference).  Why do you think this might be?\n",
    "\n",
    "Both summaries are the same."
   ]
  },
  {
   "cell_type": "code",
   "execution_count": null,
   "metadata": {},
   "outputs": [],
   "source": []
  }
 ],
 "metadata": {
  "kernelspec": {
   "display_name": "Python 3 (ipykernel)",
   "language": "python",
   "name": "python3"
  },
  "language_info": {
   "codemirror_mode": {
    "name": "ipython",
    "version": 3
   },
   "file_extension": ".py",
   "mimetype": "text/x-python",
   "name": "python",
   "nbconvert_exporter": "python",
   "pygments_lexer": "ipython3",
   "version": "3.9.7"
  }
 },
 "nbformat": 4,
 "nbformat_minor": 4
}
